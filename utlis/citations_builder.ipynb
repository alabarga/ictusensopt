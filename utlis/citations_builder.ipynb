{
 "cells": [
  {
   "cell_type": "markdown",
   "id": "9760ed42",
   "metadata": {},
   "source": [
    "## Get citations from DOI in different formats"
   ]
  },
  {
   "cell_type": "markdown",
   "id": "c0c3ba92",
   "metadata": {},
   "source": [
    "https://citation.crosscite.org/docs.html"
   ]
  },
  {
   "cell_type": "raw",
   "id": "5b530e82",
   "metadata": {},
   "source": [
    "curl -LH \"Accept: text/x-bibliography; style=harvard3; locale=fr-FR\" https://doi.org/10.1126/science.169.3946.635"
   ]
  },
  {
   "cell_type": "code",
   "execution_count": 1,
   "id": "db71f212",
   "metadata": {},
   "outputs": [],
   "source": [
    "import requests"
   ]
  },
  {
   "cell_type": "code",
   "execution_count": 4,
   "id": "31c6a344",
   "metadata": {},
   "outputs": [],
   "source": [
    "headers = {\n",
    "    'Accept' : 'text/x-bibliography; style=american-chemical-society; locale=en-US'\n",
    "}"
   ]
  },
  {
   "cell_type": "code",
   "execution_count": 42,
   "id": "b4aeaf77",
   "metadata": {},
   "outputs": [],
   "source": [
    "doi = '10.1038/s41582-020-0350-6'"
   ]
  },
  {
   "cell_type": "code",
   "execution_count": 43,
   "id": "709b17a8",
   "metadata": {},
   "outputs": [],
   "source": [
    "doi_url = f'https://doi.org/{doi}'"
   ]
  },
  {
   "cell_type": "code",
   "execution_count": 44,
   "id": "1dd14242",
   "metadata": {},
   "outputs": [],
   "source": [
    "resp = requests.get(doi_url, headers=headers)"
   ]
  },
  {
   "cell_type": "code",
   "execution_count": 45,
   "id": "66ead103",
   "metadata": {
    "scrolled": true
   },
   "outputs": [
    {
     "name": "stdout",
     "output_type": "stream",
     "text": [
      "(1) Montaner, J.; Ramiro, L.; Simats, A.; Tiedt, S.; Makris, K.; Jickling, G. C.; Debette, S.; Sanchez, J.-C.; Bustamante, A. Multilevel Omics for the Discovery of Biomarkers and Therapeutic Targets for Stroke. Nature Reviews Neurology 2020, 16 (5), 247–264. https://doi.org/10.1038/s41582-020-0350-6.\n",
      "\n"
     ]
    }
   ],
   "source": [
    "print(resp.content.decode('utf-8'))"
   ]
  },
  {
   "cell_type": "code",
   "execution_count": null,
   "id": "79df270d",
   "metadata": {},
   "outputs": [],
   "source": [
    "references = [\n",
    "    '10.1161/STROKEAHA.120.032129',\n",
    "    '10.1186/s12967-022-03377-9',\n",
    "    '10.3390/biom12010039',\n",
    "    '10.1007/s12035-021-02401-1',\n",
    "    '10.1016/j.arr.2022.101730',\n",
    "    '10.1038/s41582-020-0350-6'\n",
    "    \n",
    "]"
   ]
  },
  {
   "cell_type": "code",
   "execution_count": 29,
   "id": "0b172b56",
   "metadata": {},
   "outputs": [],
   "source": [
    "a = '''7,5 mg/24h.\n",
    "2'''\n"
   ]
  },
  {
   "cell_type": "code",
   "execution_count": 30,
   "id": "9547f83e",
   "metadata": {},
   "outputs": [
    {
     "data": {
      "text/plain": [
       "'7,5 mg/24h.\\n2'"
      ]
     },
     "execution_count": 30,
     "metadata": {},
     "output_type": "execute_result"
    }
   ],
   "source": [
    "a"
   ]
  },
  {
   "cell_type": "code",
   "execution_count": 31,
   "id": "8187bcba",
   "metadata": {},
   "outputs": [
    {
     "name": "stdout",
     "output_type": "stream",
     "text": [
      "7,5 mg/24h.\n",
      "2\n"
     ]
    }
   ],
   "source": [
    "print(a)"
   ]
  },
  {
   "cell_type": "code",
   "execution_count": 47,
   "id": "c2976bef",
   "metadata": {},
   "outputs": [],
   "source": [
    "from datetime import date"
   ]
  },
  {
   "cell_type": "code",
   "execution_count": 49,
   "id": "f2ad7efe",
   "metadata": {},
   "outputs": [
    {
     "ename": "TypeError",
     "evalue": "'str' object cannot be interpreted as an integer",
     "output_type": "error",
     "traceback": [
      "\u001b[0;31m---------------------------------------------------------------------------\u001b[0m",
      "\u001b[0;31mTypeError\u001b[0m                                 Traceback (most recent call last)",
      "Cell \u001b[0;32mIn[49], line 1\u001b[0m\n\u001b[0;32m----> 1\u001b[0m \u001b[43mdate\u001b[49m\u001b[43m(\u001b[49m\u001b[38;5;124;43m'\u001b[39;49m\u001b[38;5;124;43m2022-12-26\u001b[39;49m\u001b[38;5;124;43m'\u001b[39;49m\u001b[43m)\u001b[49m\n",
      "\u001b[0;31mTypeError\u001b[0m: 'str' object cannot be interpreted as an integer"
     ]
    }
   ],
   "source": [
    "date('2022-12-26')"
   ]
  },
  {
   "cell_type": "code",
   "execution_count": null,
   "id": "7af4f146",
   "metadata": {},
   "outputs": [],
   "source": []
  }
 ],
 "metadata": {
  "kernelspec": {
   "display_name": "airflow",
   "language": "python",
   "name": "airflow"
  },
  "language_info": {
   "codemirror_mode": {
    "name": "ipython",
    "version": 3
   },
   "file_extension": ".py",
   "mimetype": "text/x-python",
   "name": "python",
   "nbconvert_exporter": "python",
   "pygments_lexer": "ipython3",
   "version": "3.10.6"
  }
 },
 "nbformat": 4,
 "nbformat_minor": 5
}
